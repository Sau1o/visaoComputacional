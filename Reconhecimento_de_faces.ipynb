{
  "nbformat": 4,
  "nbformat_minor": 0,
  "metadata": {
    "colab": {
      "name": "Reconhecimento de faces.ipynb",
      "provenance": [],
      "collapsed_sections": [],
      "authorship_tag": "ABX9TyO4Q6sje9p7LadZQpb2Z5wV",
      "include_colab_link": true
    },
    "kernelspec": {
      "name": "python3",
      "display_name": "Python 3"
    },
    "language_info": {
      "name": "python"
    }
  },
  "cells": [
    {
      "cell_type": "markdown",
      "metadata": {
        "id": "view-in-github",
        "colab_type": "text"
      },
      "source": [
        "<a href=\"https://colab.research.google.com/github/Sau1o/visaoComputacional/blob/main/Reconhecimento_de_faces.ipynb\" target=\"_parent\"><img src=\"https://colab.research.google.com/assets/colab-badge.svg\" alt=\"Open In Colab\"/></a>"
      ]
    },
    {
      "cell_type": "code",
      "execution_count": 2,
      "metadata": {
        "id": "QklJmWYrgX2z",
        "colab": {
          "base_uri": "https://localhost:8080/"
        },
        "outputId": "2774ed21-6552-46ae-fa5b-f6243f52868f"
      },
      "outputs": [
        {
          "output_type": "stream",
          "name": "stdout",
          "text": [
            "Mounted at /content/drive\n"
          ]
        }
      ],
      "source": [
        "from PIL import Image\n",
        "import cv2\n",
        "import numpy as np\n",
        "from google.colab.patches import cv2_imshow\n",
        "from google.colab import drive\n",
        "drive.mount('/content/drive')"
      ]
    },
    {
      "cell_type": "code",
      "source": [
        "import zipfile\n",
        "path = '/content/drive/MyDrive/VisaoComputacional/Datasets/yalefaces.zip'\n",
        "zip_object = zipfile.ZipFile(file = path, mode = 'r')\n",
        "zip_object.extractall('./')\n",
        "zip_object.close()"
      ],
      "metadata": {
        "id": "40sM-0YmjkwJ"
      },
      "execution_count": 4,
      "outputs": []
    },
    {
      "cell_type": "code",
      "source": [
        "import os\n",
        "print(os.listdir('/content/yalefaces/train'))"
      ],
      "metadata": {
        "colab": {
          "base_uri": "https://localhost:8080/"
        },
        "id": "GfdL3Qetla4Q",
        "outputId": "c723a906-b1fa-4b4e-d817-5af464af3a51"
      },
      "execution_count": 5,
      "outputs": [
        {
          "output_type": "stream",
          "name": "stdout",
          "text": [
            "['subject09.leftlight.gif', 'subject07.wink.gif', 'subject01.leftlight.gif', 'subject04.centerlight.gif', 'subject01.rightlight.gif', 'subject03.centerlight.gif', 'subject07.sleepy.gif', 'subject10.glasses.gif', 'subject02.noglasses.gif', 'subject12.centerlight.gif', 'subject01.glasses.gif', 'subject04.rightlight.gif', 'subject09.glasses.gif', 'subject15.wink.gif', 'subject15.happy.gif', 'subject12.sad.gif', 'subject05.happy.gif', 'subject08.happy.gif', 'subject15.noglasses.gif', 'subject05.glasses.gif', 'subject10.normal.gif', 'subject05.normal.gif', 'subject05.noglasses.gif', 'subject13.normal.gif', 'subject04.normal.gif', 'subject11.noglasses.gif', 'subject10.sleepy.gif', 'subject14.glasses.gif', 'subject11.wink.gif', 'subject06.noglasses.gif', 'subject02.happy.gif', 'subject10.wink.gif', 'subject01.sleepy.gif', 'subject04.noglasses.gif', 'subject09.centerlight.gif', 'subject02.glasses.gif', 'subject07.surprised.gif', 'subject05.rightlight.gif', 'subject06.wink.gif', 'subject09.noglasses.gif', 'subject05.sad.gif', 'subject08.wink.gif', 'subject13.happy.gif', 'subject06.sleepy.gif', 'subject06.normal.gif', 'subject13.rightlight.gif', 'subject15.leftlight.gif', 'subject02.sad.gif', 'subject15.normal.gif', 'subject13.noglasses.gif', 'subject01.normal.gif', 'subject12.happy.gif', 'subject09.normal.gif', 'subject09.sleepy.gif', 'subject14.noglasses.gif', 'subject04.happy.gif', 'subject13.wink.gif', 'subject12.surprised.gif', 'subject05.leftlight.gif', 'subject07.glasses.gif', 'subject06.surprised.gif', 'subject03.normal.gif', 'subject15.sleepy.gif', 'subject08.glasses.gif', 'subject05.centerlight.gif', 'subject03.rightlight.gif', 'subject02.surprised.gif', 'subject15.glasses.gif', 'subject11.rightlight.gif', 'subject12.glasses.gif', 'subject01.wink.gif', 'subject08.sad.gif', 'subject07.normal.gif', 'subject01.surprised.gif', 'subject01.sad.gif', 'subject03.sad.gif', 'subject14.leftlight.gif', 'subject13.leftlight.gif', 'subject04.sad.gif', 'subject03.surprised.gif', 'subject03.noglasses.gif', 'subject07.rightlight.gif', 'subject08.sleepy.gif', 'subject10.rightlight.gif', 'subject11.normal.gif', 'subject11.centerlight.gif', 'subject12.sleepy.gif', 'subject07.sad.gif', 'subject13.centerlight.gif', 'subject03.wink.gif', 'subject04.wink.gif', 'subject06.glasses.gif', 'subject05.wink.gif', 'subject10.noglasses.gif', 'subject07.noglasses.gif', 'subject11.sleepy.gif', 'subject11.leftlight.gif', 'subject09.happy.gif', 'subject12.leftlight.gif', 'subject03.sleepy.gif', 'subject03.happy.gif', 'subject11.surprised.gif', 'subject08.leftlight.gif', 'subject02.wink.gif', 'subject02.sleepy.gif', 'subject14.wink.gif', 'subject02.rightlight.gif', 'subject08.surprised.gif', 'subject14.surprised.gif', 'subject15.surprised.gif', 'subject07.centerlight.gif', 'subject11.sad.gif', 'subject01.noglasses.gif', 'subject06.centerlight.gif', 'subject02.normal.gif', 'subject14.sleepy.gif', 'subject14.rightlight.gif', 'subject12.wink.gif', 'subject06.rightlight.gif', 'subject14.happy.gif', 'subject12.noglasses.gif', 'subject10.leftlight.gif', 'subject08.centerlight.gif', 'subject14.centerlight.gif', 'subject15.centerlight.gif', 'subject10.happy.gif', 'subject13.glasses.gif', 'subject04.sleepy.gif', 'subject06.sad.gif', 'subject04.glasses.gif', 'subject09.wink.gif', 'subject09.surprised.gif', 'subject08.noglasses.gif', 'subject13.surprised.gif', 'subject10.surprised.gif']\n"
          ]
        }
      ]
    },
    {
      "cell_type": "code",
      "source": [
        "def get_image_data():\n",
        "  paths = [os.path.join('/content/yalefaces/train',f) for f in os.listdir('/content/yalefaces/train')]\n",
        "  faces = []\n",
        "  ids = []\n",
        "  for path in paths:\n",
        "    imagem = Image.open(path).convert('L')\n",
        "    imagem_np = np.array(imagem,'uint8')\n",
        "    id = int(os.path.split(path)[1].split('.')[0].replace('subject', ''))\n",
        "    #print(id)\n",
        "    ids.append(id)\n",
        "    faces.append(imagem_np)\n",
        "  return np.array(ids), faces"
      ],
      "metadata": {
        "id": "B4yLHe8GDlMl"
      },
      "execution_count": 10,
      "outputs": []
    },
    {
      "cell_type": "markdown",
      "source": [
        "Treinamento do classificador LBPH"
      ],
      "metadata": {
        "id": "m6aNq2KhG8hK"
      }
    },
    {
      "cell_type": "code",
      "source": [
        "ids, faces = get_image_data()"
      ],
      "metadata": {
        "id": "yiO3VsvtFGbM"
      },
      "execution_count": 11,
      "outputs": []
    },
    {
      "cell_type": "code",
      "source": [
        "lbph_classifier = cv2.face.LBPHFaceRecognizer_create(radius=1, neighbors=8 ,grid_x=8,grid_y=8)\n",
        "lbph_classifier.train(faces,ids)\n",
        "lbph_classifier.write('lbph_classifier.yml')"
      ],
      "metadata": {
        "id": "tIMtRpZuFIyg"
      },
      "execution_count": 14,
      "outputs": []
    },
    {
      "cell_type": "markdown",
      "source": [
        "Reconhecimento de faces"
      ],
      "metadata": {
        "id": "lSnf3JS1HAmO"
      }
    },
    {
      "cell_type": "code",
      "source": [
        "lbph_face_classifier = cv2.face.LBPHFaceRecognizer_create()\n",
        "lbph_face_classifier.read('/content/lbph_classifier.yml')"
      ],
      "metadata": {
        "id": "E8QYvsboFymN"
      },
      "execution_count": 20,
      "outputs": []
    },
    {
      "cell_type": "code",
      "source": [
        "imagem_teste = '/content/yalefaces/test/subject10.sad.gif'"
      ],
      "metadata": {
        "id": "94Wo3kihHXvV"
      },
      "execution_count": 29,
      "outputs": []
    },
    {
      "cell_type": "code",
      "source": [
        "imagem = Image.open(imagem_teste).convert('L')\n",
        "imagem_np = np.array(imagem,'uint8')"
      ],
      "metadata": {
        "id": "GeSjf-WDHj5e"
      },
      "execution_count": 30,
      "outputs": []
    },
    {
      "cell_type": "code",
      "source": [
        "previsao = lbph_face_classifier.predict(imagem_np)\n",
        "previsao"
      ],
      "metadata": {
        "colab": {
          "base_uri": "https://localhost:8080/"
        },
        "id": "T9XNHIA2H2ye",
        "outputId": "ba236517-cade-4852-b41c-c8fa3a4b6d62"
      },
      "execution_count": 31,
      "outputs": [
        {
          "output_type": "execute_result",
          "data": {
            "text/plain": [
              "(10, 6.384336446373091)"
            ]
          },
          "metadata": {},
          "execution_count": 31
        }
      ]
    },
    {
      "cell_type": "code",
      "source": [
        "saida_esperada = int(os.path.split(imagem_teste)[1].split('.')[0].replace('subject', ''))\n",
        "saida_esperada"
      ],
      "metadata": {
        "colab": {
          "base_uri": "https://localhost:8080/"
        },
        "id": "227v02nIIDJQ",
        "outputId": "f515e4ec-2c65-4ef7-8469-5581f50e5c8e"
      },
      "execution_count": 32,
      "outputs": [
        {
          "output_type": "execute_result",
          "data": {
            "text/plain": [
              "10"
            ]
          },
          "metadata": {},
          "execution_count": 32
        }
      ]
    },
    {
      "cell_type": "code",
      "source": [
        "cv2.putText(imagem_np, 'Pred: ' + str(previsao[0]),(10,30),cv2.FONT_HERSHEY_COMPLEX_SMALL,1,(0,255,0))\n",
        "cv2.putText(imagem_np, 'Esp: ' + str(saida_esperada),(10,50),cv2.FONT_HERSHEY_COMPLEX_SMALL,1,(0,255,0))\n",
        "cv2_imshow(imagem_np)"
      ],
      "metadata": {
        "colab": {
          "base_uri": "https://localhost:8080/",
          "height": 260
        },
        "id": "0Tc7V0fjJCml",
        "outputId": "6dc88cb0-9014-4cb6-dea1-3c68f756da14"
      },
      "execution_count": 33,
      "outputs": [
        {
          "output_type": "display_data",
          "data": {
            "image/png": "[encoded data removed]",
            "text/plain": [
              "<PIL.Image.Image image mode=L size=320x243 at 0x7FB23BA5A910>"
            ]
          },
          "metadata": {}
        }
      ]
    },
    {
      "cell_type": "code",
      "source": [
        "paths = [os.path.join('/content/yalefaces/test',f) for f in os.listdir('/content/yalefaces/test')]\n",
        "previsoes = []\n",
        "saidas_esperadas = []\n",
        "for path in paths:\n",
        "  imagem = Image.open(path).convert('L')\n",
        "  imagem_np = np.array(imagem,'uint8')\n",
        "  previsao, _ = lbph_face_classifier.predict(imagem_np)\n",
        "  #print(previsao)\n",
        "  saida_esperada = int(os.path.split(path)[1].split('.')[0].replace('subject', ''))\n",
        "  #print(saida_esperada)\n",
        "\n",
        "  previsoes.append(previsao)\n",
        "  saidas_esperadas.append(saida_esperada)"
      ],
      "metadata": {
        "id": "QQVfRBeOJhzz"
      },
      "execution_count": 40,
      "outputs": []
    },
    {
      "cell_type": "code",
      "source": [
        "previsoes = np.array(previsoes)\n",
        "saidas_esperadas = np.array(saidas_esperadas)"
      ],
      "metadata": {
        "id": "aZPSDbAFK-nL"
      },
      "execution_count": 41,
      "outputs": []
    },
    {
      "cell_type": "code",
      "source": [
        "previsoes"
      ],
      "metadata": {
        "colab": {
          "base_uri": "https://localhost:8080/"
        },
        "id": "qJ1eW3mNMhe7",
        "outputId": "2c85d77b-8fc8-4e04-975d-1c8db2ad3e4a"
      },
      "execution_count": 42,
      "outputs": [
        {
          "output_type": "execute_result",
          "data": {
            "text/plain": [
              "array([ 4, 12,  3, 13, 12, 13,  1,  5,  7, 14, 10,  4, 11,  6, 14,  5,  4,\n",
              "        9,  9,  7,  5,  8, 11, 15,  7, 14,  9,  4,  9,  1])"
            ]
          },
          "metadata": {},
          "execution_count": 42
        }
      ]
    },
    {
      "cell_type": "code",
      "source": [
        "saidas_esperadas"
      ],
      "metadata": {
        "colab": {
          "base_uri": "https://localhost:8080/"
        },
        "id": "WjdZF7t9MnON",
        "outputId": "8d03defb-70f2-4f3f-a68e-4a0b2451a8da"
      },
      "execution_count": 43,
      "outputs": [
        {
          "output_type": "execute_result",
          "data": {
            "text/plain": [
              "array([ 2, 12,  3, 13, 12, 13,  1,  2,  7, 14, 10,  8, 11,  6, 14,  5, 10,\n",
              "        7,  3, 15,  5,  8, 11, 15,  9,  6,  4,  4,  9,  1])"
            ]
          },
          "metadata": {},
          "execution_count": 43
        }
      ]
    },
    {
      "cell_type": "code",
      "source": [
        "from sklearn.metrics import accuracy_score\n",
        "accuracy_score(saidas_esperadas,previsoes)"
      ],
      "metadata": {
        "colab": {
          "base_uri": "https://localhost:8080/"
        },
        "id": "9e8lHdy_MoRC",
        "outputId": "b1cb66fa-8e10-472d-a983-82c460f9d14a"
      },
      "execution_count": 44,
      "outputs": [
        {
          "output_type": "execute_result",
          "data": {
            "text/plain": [
              "0.6666666666666666"
            ]
          },
          "metadata": {},
          "execution_count": 44
        }
      ]
    },
    {
      "cell_type": "code",
      "source": [
        "from sklearn.metrics import confusion_matrix\n",
        "cm = confusion_matrix(saidas_esperadas, previsoes)\n",
        "cm"
      ],
      "metadata": {
        "colab": {
          "base_uri": "https://localhost:8080/"
        },
        "id": "BHujiJAlNBZb",
        "outputId": "25efc44a-dc4e-4992-bbdc-8609063b1280"
      },
      "execution_count": 45,
      "outputs": [
        {
          "output_type": "execute_result",
          "data": {
            "text/plain": [
              "array([[2, 0, 0, 0, 0, 0, 0, 0, 0, 0, 0, 0, 0, 0, 0],\n",
              "       [0, 0, 0, 1, 1, 0, 0, 0, 0, 0, 0, 0, 0, 0, 0],\n",
              "       [0, 0, 1, 0, 0, 0, 0, 0, 1, 0, 0, 0, 0, 0, 0],\n",
              "       [0, 0, 0, 1, 0, 0, 0, 0, 1, 0, 0, 0, 0, 0, 0],\n",
              "       [0, 0, 0, 0, 2, 0, 0, 0, 0, 0, 0, 0, 0, 0, 0],\n",
              "       [0, 0, 0, 0, 0, 1, 0, 0, 0, 0, 0, 0, 0, 1, 0],\n",
              "       [0, 0, 0, 0, 0, 0, 1, 0, 1, 0, 0, 0, 0, 0, 0],\n",
              "       [0, 0, 0, 1, 0, 0, 0, 1, 0, 0, 0, 0, 0, 0, 0],\n",
              "       [0, 0, 0, 0, 0, 0, 1, 0, 1, 0, 0, 0, 0, 0, 0],\n",
              "       [0, 0, 0, 1, 0, 0, 0, 0, 0, 1, 0, 0, 0, 0, 0],\n",
              "       [0, 0, 0, 0, 0, 0, 0, 0, 0, 0, 2, 0, 0, 0, 0],\n",
              "       [0, 0, 0, 0, 0, 0, 0, 0, 0, 0, 0, 2, 0, 0, 0],\n",
              "       [0, 0, 0, 0, 0, 0, 0, 0, 0, 0, 0, 0, 2, 0, 0],\n",
              "       [0, 0, 0, 0, 0, 0, 0, 0, 0, 0, 0, 0, 0, 2, 0],\n",
              "       [0, 0, 0, 0, 0, 0, 1, 0, 0, 0, 0, 0, 0, 0, 1]])"
            ]
          },
          "metadata": {},
          "execution_count": 45
        }
      ]
    },
    {
      "cell_type": "code",
      "source": [
        "import seaborn\n",
        "seaborn.heatmap(cm, annot=True);"
      ],
      "metadata": {
        "colab": {
          "base_uri": "https://localhost:8080/",
          "height": 269
        },
        "id": "jHcCOQuPNaoE",
        "outputId": "5c4b361e-e405-4666-f713-a8af558a36a1"
      },
      "execution_count": 46,
      "outputs": [
        {
          "output_type": "display_data",
          "data": {
            "image/png": "[encoded data removed]",
            "text/plain": [
              "<Figure size 432x288 with 2 Axes>"
            ]
          },
          "metadata": {
            "needs_background": "light"
          }
        }
      ]
    },
    {
      "cell_type": "code",
      "source": [
        ""
      ],
      "metadata": {
        "id": "grAANkA5NnBZ"
      },
      "execution_count": null,
      "outputs": []
    }
  ]
}